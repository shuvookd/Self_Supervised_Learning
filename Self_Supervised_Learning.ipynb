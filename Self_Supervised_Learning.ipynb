{
  "nbformat": 4,
  "nbformat_minor": 0,
  "metadata": {
    "colab": {
      "provenance": [],
      "gpuType": "T4",
      "authorship_tag": "ABX9TyN5kHoQJfQ+fzbbEOrD+0kQ",
      "include_colab_link": true
    },
    "kernelspec": {
      "name": "python3",
      "display_name": "Python 3"
    },
    "language_info": {
      "name": "python"
    },
    "accelerator": "GPU"
  },
  "cells": [
    {
      "cell_type": "markdown",
      "metadata": {
        "id": "view-in-github",
        "colab_type": "text"
      },
      "source": [
        "<a href=\"https://colab.research.google.com/github/shuvookd/Self_Supervised_Learning/blob/main/Self_Supervised_Learning.ipynb\" target=\"_parent\"><img src=\"https://colab.research.google.com/assets/colab-badge.svg\" alt=\"Open In Colab\"/></a>"
      ]
    },
    {
      "cell_type": "markdown",
      "source": [
        "# Self-Supervised Learning"
      ],
      "metadata": {
        "id": "O4HIzybG1NQ3"
      }
    },
    {
      "cell_type": "markdown",
      "source": [
        "## Introduction\n",
        "Self-supervised learning (SSL) is a machine learning approach where a model learns meaningful representations from unlabeled data.\n",
        "Unlike supervised learning, which relies on labeled data, SSL generates its own labels by designing pretext tasks."
      ],
      "metadata": {
        "id": "PPVF7gTt1SyW"
      }
    },
    {
      "cell_type": "markdown",
      "source": [
        "## Classification of Self-Supervised Learning\n",
        "SSL can be categorized into:\n",
        "1. **Contrastive Learning**: The model learns by comparing similar and dissimilar samples.\n",
        "   - Examples: SimCLR, MoCo, BYOL.\n",
        "2. **Generative Approaches**: The model reconstructs missing or corrupted parts of the input.\n",
        "   - Examples: Autoencoders, Masked Autoencoders (MAE), BERT (in NLP).\n",
        "3. **Clustering-Based Methods**: The model groups similar data points and learns meaningful representations.\n",
        "   - Examples: DeepCluster, SwAV."
      ],
      "metadata": {
        "id": "59hJRmp_1tLm"
      }
    },
    {
      "cell_type": "markdown",
      "source": [
        "## Scope of Self-Supervised Learning\n",
        "Self-supervised learning has applications across various domains, including:\n",
        "- **Computer Vision**: Pretraining models on large-scale image datasets before fine-tuning them for specific tasks.\n",
        "- **Natural Language Processing (NLP)**: Models like BERT and GPT use self-supervised learning to understand language without labeled data.\n",
        "- **Healthcare**: Learning patterns in medical images or genomic sequences without requiring large amounts of labeled data.\n",
        "- **Speech Processing**: SSL is used in automatic speech recognition (ASR) and speaker verification.\n",
        "- **Robotics**: Training robots to understand and interact with their environment through self-supervised learning."
      ],
      "metadata": {
        "id": "8KMzbxEb127_"
      }
    },
    {
      "cell_type": "markdown",
      "source": [
        "#Implementation"
      ],
      "metadata": {
        "id": "H2xhtSdm3twz"
      }
    },
    {
      "cell_type": "markdown",
      "source": [
        "## Imports and Setup\n",
        "First, we import the necessary libraries."
      ],
      "metadata": {
        "id": "DTXidUBH303D"
      }
    },
    {
      "cell_type": "code",
      "source": [
        "import torch\n",
        "import torch.nn as nn\n",
        "import torch.optim as optim\n",
        "import torchvision.transforms as transforms\n",
        "import torchvision.datasets as datasets\n",
        "from torch.utils.data import DataLoader"
      ],
      "metadata": {
        "id": "34hzJk8l3xmk"
      },
      "execution_count": 2,
      "outputs": []
    },
    {
      "cell_type": "markdown",
      "source": [
        "## Data Preparation\n",
        "We define transformations to augment the images and load the CIFAR-10 dataset."
      ],
      "metadata": {
        "id": "I9VvE3IM4KFC"
      }
    },
    {
      "cell_type": "code",
      "source": [
        "transform = transforms.Compose([\n",
        "    transforms.RandomResizedCrop(32),\n",
        "    transforms.RandomHorizontalFlip(),\n",
        "    transforms.ToTensor(),\n",
        "])\n",
        "\n",
        "train_dataset = datasets.CIFAR10(root='./data', train=True, transform=transform, download=True)\n",
        "train_loader = DataLoader(train_dataset, batch_size=128, shuffle=True)"
      ],
      "metadata": {
        "id": "38TapZky4Lzr",
        "outputId": "41ba0896-78f9-4e5b-e7c1-68494d247c5f",
        "colab": {
          "base_uri": "https://localhost:8080/"
        }
      },
      "execution_count": 3,
      "outputs": [
        {
          "output_type": "stream",
          "name": "stderr",
          "text": [
            "100%|██████████| 170M/170M [00:29<00:00, 5.78MB/s]\n"
          ]
        }
      ]
    },
    {
      "cell_type": "markdown",
      "source": [
        "## Model Definition\n",
        "We define a simple CNN encoder to extract features from images."
      ],
      "metadata": {
        "id": "du0IbKII4ZAL"
      }
    },
    {
      "cell_type": "code",
      "source": [
        "class Encoder(nn.Module):\n",
        "    def __init__(self):\n",
        "        super(Encoder, self).__init__()\n",
        "        self.conv = nn.Sequential(\n",
        "            nn.Conv2d(3, 64, kernel_size=3, stride=1, padding=1),\n",
        "            nn.ReLU(),\n",
        "            nn.MaxPool2d(2, 2),\n",
        "            nn.Conv2d(64, 128, kernel_size=3, stride=1, padding=1),\n",
        "            nn.ReLU(),\n",
        "            nn.MaxPool2d(2, 2),\n",
        "        )\n",
        "        self.fc = nn.Linear(128 * 8 * 8, 256)\n",
        "\n",
        "    def forward(self, x):\n",
        "        x = self.conv(x)\n",
        "        x = x.view(x.size(0), -1)\n",
        "        x = self.fc(x)\n",
        "        return x"
      ],
      "metadata": {
        "id": "YkxQacTb4bc6"
      },
      "execution_count": 4,
      "outputs": []
    },
    {
      "cell_type": "markdown",
      "source": [
        "## Contrastive Loss Function\n",
        "The contrastive loss function measures the similarity between image representations."
      ],
      "metadata": {
        "id": "ITu_5eXt4jdz"
      }
    },
    {
      "cell_type": "code",
      "source": [
        "def contrastive_loss(features1, features2, temperature=0.5):\n",
        "    similarity_matrix = torch.matmul(features1, features2.T) / temperature\n",
        "    labels = torch.arange(features1.size(0)).to(features1.device)\n",
        "    loss = nn.CrossEntropyLoss()(similarity_matrix, labels)\n",
        "    return loss"
      ],
      "metadata": {
        "id": "Y3lbU0VL4kvs"
      },
      "execution_count": 5,
      "outputs": []
    },
    {
      "cell_type": "markdown",
      "source": [
        "## Training the Model\n",
        "We initialize the model, optimizer, and loss function, then train the model using contrastive learning."
      ],
      "metadata": {
        "id": "2H5JurOj4obr"
      }
    },
    {
      "cell_type": "code",
      "source": [
        "encoder = Encoder()\n",
        "optimizer = optim.Adam(encoder.parameters(), lr=0.001)\n",
        "device = \"cuda\" if torch.cuda.is_available() else \"cpu\"\n",
        "encoder.to(device)\n",
        "\n",
        "epochs = 10\n",
        "for epoch in range(epochs):\n",
        "    for images, _ in train_loader:\n",
        "        images = images.to(device)\n",
        "\n",
        "        augmented_images1 = images\n",
        "        augmented_images2 = images\n",
        "\n",
        "        features1 = encoder(augmented_images1)\n",
        "        features2 = encoder(augmented_images2)\n",
        "\n",
        "        loss = contrastive_loss(features1, features2)\n",
        "        optimizer.zero_grad()\n",
        "        loss.backward()\n",
        "        optimizer.step()\n",
        "\n",
        "    print(f\"Epoch [{epoch+1}/{epochs}], Loss: {loss.item():.4f}\")\n",
        "\n",
        "print(\"Self-supervised learning training completed!\")"
      ],
      "metadata": {
        "id": "XVDGi0ZR4rkc",
        "outputId": "93f06688-38c9-4b8a-a762-91bac4e6c32d",
        "colab": {
          "base_uri": "https://localhost:8080/"
        }
      },
      "execution_count": 6,
      "outputs": [
        {
          "output_type": "stream",
          "name": "stdout",
          "text": [
            "Epoch [1/10], Loss: 0.0018\n",
            "Epoch [2/10], Loss: 0.0013\n",
            "Epoch [3/10], Loss: 0.0087\n",
            "Epoch [4/10], Loss: 0.0021\n",
            "Epoch [5/10], Loss: 0.0003\n",
            "Epoch [6/10], Loss: 0.0000\n",
            "Epoch [7/10], Loss: 0.1092\n",
            "Epoch [8/10], Loss: 0.0016\n",
            "Epoch [9/10], Loss: 0.0004\n",
            "Epoch [10/10], Loss: 0.0008\n",
            "Self-supervised learning training completed!\n"
          ]
        }
      ]
    }
  ]
}